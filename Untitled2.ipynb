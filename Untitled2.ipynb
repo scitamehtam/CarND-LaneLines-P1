{
 "cells": [
  {
   "cell_type": "code",
   "execution_count": null,
   "metadata": {
    "collapsed": true
   },
   "outputs": [],
   "source": [
    "import cv2\n",
    "import numpy as np\n",
    "\n",
    "img_size = (200,200)\n",
    "img = np.ones(img_size) * 255\n",
    "\n",
    "# polar equation\n",
    "theta = np.linspace(0, np.pi, 1000)\n",
    "r = 1 / (np.sin(theta) - np.cos(theta))\n",
    "\n",
    "# polar to cartesian\n",
    "def polar2cart(r, theta):\n",
    "    x = r * np.cos(theta)\n",
    "    y = r * np.sin(theta)\n",
    "    return x, y\n",
    "\n",
    "x,y = polar2cart(r, theta)\n",
    "x1, x2, y1, y2 = x[0], x[1], y[0], y[1]\n",
    "\n",
    "# line equation y = f(X)\n",
    "def line_eq(X):\n",
    "    m = (y2 - y1) / (x2 - x1)\n",
    "    return m * (X - x1) + y1\n",
    "\n",
    "line = np.vectorize(line_eq)\n",
    "\n",
    "x = np.arange(0, img_size[0])\n",
    "y = line(x).astype(np.uint)\n",
    "\n",
    "cv2.line(img, (x[0], y[0]), (x[-1], y[-1]), (0,0,0))\n",
    "cv2.imshow(\"foo\",img)\n",
    "cv2.waitKey()"
   ]
  },
  {
   "cell_type": "code",
   "execution_count": null,
   "metadata": {
    "collapsed": true
   },
   "outputs": [],
   "source": [
    "x= 5\n",
    "y=2\n",
    "def sum(x,y):\n",
    "    return x+y\n",
    "print(sum())"
   ]
  },
  {
   "cell_type": "code",
   "execution_count": null,
   "metadata": {
    "collapsed": true
   },
   "outputs": [],
   "source": []
  },
  {
   "cell_type": "code",
   "execution_count": null,
   "metadata": {
    "collapsed": true
   },
   "outputs": [],
   "source": []
  },
  {
   "cell_type": "code",
   "execution_count": null,
   "metadata": {
    "collapsed": true
   },
   "outputs": [],
   "source": []
  },
  {
   "cell_type": "code",
   "execution_count": null,
   "metadata": {
    "collapsed": true
   },
   "outputs": [],
   "source": [
    "g\n"
   ]
  },
  {
   "cell_type": "code",
   "execution_count": null,
   "metadata": {
    "collapsed": true
   },
   "outputs": [],
   "source": []
  }
 ],
 "metadata": {
  "kernelspec": {
   "display_name": "Python 3",
   "language": "python",
   "name": "python3"
  },
  "language_info": {
   "codemirror_mode": {
    "name": "ipython",
    "version": 3
   },
   "file_extension": ".py",
   "mimetype": "text/x-python",
   "name": "python",
   "nbconvert_exporter": "python",
   "pygments_lexer": "ipython3",
   "version": "3.6.3"
  }
 },
 "nbformat": 4,
 "nbformat_minor": 2
}
